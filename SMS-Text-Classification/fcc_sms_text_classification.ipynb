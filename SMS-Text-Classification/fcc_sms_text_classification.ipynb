{
 "cells": [
  {
   "cell_type": "code",
   "execution_count": 15,
   "metadata": {},
   "outputs": [],
   "source": [
    "import pandas as pd\n",
    "import re\n",
    "import torch\n",
    "from torch import nn\n",
    "from sentence_transformers import SentenceTransformer\n",
    "\n",
    "device = torch.device(\"cuda\" if torch.cuda.is_available() else \"cpu\")\n"
   ]
  },
  {
   "cell_type": "code",
   "execution_count": 16,
   "metadata": {},
   "outputs": [],
   "source": [
    "train_df = pd.read_csv('train-data.tsv', sep='\\t', header=None, names=['target', 'text'])\n",
    "val_df = pd.read_csv('valid-data.tsv', sep='\\t', header=None, names=['target', 'text'])"
   ]
  },
  {
   "cell_type": "code",
   "execution_count": 17,
   "metadata": {},
   "outputs": [],
   "source": [
    "def normalize_text(txt):\n",
    "    # lowercase\n",
    "    txt = txt.lower()\n",
    "    # remove special characters and digits\n",
    "    txt = re.sub(r'[^\\w\\s]', ' ', txt)\n",
    "    txt = re.sub(r'\\s+', ' ', txt)\n",
    "    return txt\n"
   ]
  },
  {
   "cell_type": "code",
   "execution_count": 18,
   "metadata": {},
   "outputs": [],
   "source": [
    "train_df['target'] = train_df['target'].apply(lambda x: 1 if x == 'ham' else 0)\n",
    "train_df['text'] = train_df['text'].apply(normalize_text)\n",
    "val_df['target'] = val_df['target'].apply(lambda x: 1 if x == 'ham' else 0)\n",
    "val_df['text'] = val_df['text'].apply(normalize_text)"
   ]
  },
  {
   "cell_type": "code",
   "execution_count": 19,
   "metadata": {},
   "outputs": [],
   "source": [
    "encoder = SentenceTransformer('sentence-transformers/all-mpnet-base-v2')\n",
    "x_train = torch.tensor(encoder.encode(train_df['text'].tolist())).to(device)  \n",
    "\n",
    "x_val = torch.tensor(encoder.encode(val_df['text'].tolist())).to(device)\n",
    "\n",
    "y_train = torch.tensor(train_df['target'].tolist(), dtype=torch.float32).to(device)\n",
    "y_val = torch.tensor(val_df['target'].tolist(), dtype=torch.float32).to(device)"
   ]
  },
  {
   "cell_type": "code",
   "execution_count": 27,
   "metadata": {},
   "outputs": [],
   "source": [
    "class Network(nn.Module):\n",
    "    def __init__(self):\n",
    "        super().__init__()\n",
    "        self.network = nn.Sequential(\n",
    "            nn.Linear(768, 256),\n",
    "            nn.PReLU(),\n",
    "            nn.Dropout(0.6),\n",
    "            nn.Linear(256, 128),\n",
    "            nn.PReLU(),\n",
    "            nn.Dropout(0.4),\n",
    "            nn.Linear(128, 64),\n",
    "            nn.PReLU(),\n",
    "            nn.Dropout(0.2),\n",
    "            nn.Linear(64, 1),\n",
    "            nn.Sigmoid()\n",
    "        )\n",
    "\n",
    "    def forward(self, x):\n",
    "        return self.network(x)\n",
    "            \n",
    "    \n",
    "\n",
    "torch.manual_seed(42)\n",
    "model = Network().to(device)\n",
    "loss_fn = nn.BCELoss().to(device)\n",
    "optimizer = torch.optim.Adam(model.parameters(), lr=0.001, weight_decay=0.001)\n",
    "\n",
    "def train_loop(x, y, model, loss_fn, optimizer, x_val = None, y_val = None, epochs = 200):\n",
    "    for epoch in range(epochs):\n",
    "        model.train()\n",
    "        y_pred = model(x).squeeze()\n",
    "        loss = loss_fn(y_pred, y)\n",
    "        optimizer.zero_grad()\n",
    "        loss.backward()\n",
    "        optimizer.step()\n",
    "        if (epoch + 1) % 10 == 0:\n",
    "            if x_val is not None and y_val is not None:\n",
    "                model.eval()\n",
    "                y_pred = model(x_val).squeeze()\n",
    "                loss = loss_fn(y_pred, y_val)\n",
    "                acc = ((y_pred > 0.5) == y_val).float().mean()\n",
    "                print(f\"Epoch: {epoch + 1}, Loss: {loss.item()}, Validation Accuracy: {100 * acc.item():.2f}%\")"
   ]
  },
  {
   "cell_type": "code",
   "execution_count": 28,
   "metadata": {},
   "outputs": [
    {
     "name": "stdout",
     "output_type": "stream",
     "text": [
      "Epoch: 10, Loss: 0.6173142790794373, Validation Accuracy: 86.57%\n",
      "Epoch: 20, Loss: 0.33061283826828003, Validation Accuracy: 86.57%\n",
      "Epoch: 30, Loss: 0.18995530903339386, Validation Accuracy: 93.89%\n",
      "Epoch: 40, Loss: 0.11712203919887543, Validation Accuracy: 94.97%\n",
      "Epoch: 50, Loss: 0.06929001212120056, Validation Accuracy: 97.63%\n",
      "Epoch: 60, Loss: 0.05195258557796478, Validation Accuracy: 98.13%\n",
      "Epoch: 70, Loss: 0.04525814577937126, Validation Accuracy: 98.64%\n",
      "Epoch: 80, Loss: 0.040131304413080215, Validation Accuracy: 98.85%\n",
      "Epoch: 90, Loss: 0.0383618026971817, Validation Accuracy: 98.92%\n",
      "Epoch: 100, Loss: 0.03871142119169235, Validation Accuracy: 98.92%\n",
      "Epoch: 110, Loss: 0.039531826972961426, Validation Accuracy: 98.85%\n",
      "Epoch: 120, Loss: 0.03862057998776436, Validation Accuracy: 98.99%\n",
      "Epoch: 130, Loss: 0.038612909615039825, Validation Accuracy: 98.92%\n",
      "Epoch: 140, Loss: 0.03934590518474579, Validation Accuracy: 98.85%\n",
      "Epoch: 150, Loss: 0.039017535746097565, Validation Accuracy: 98.92%\n",
      "Epoch: 160, Loss: 0.04019363224506378, Validation Accuracy: 98.85%\n",
      "Epoch: 170, Loss: 0.039625540375709534, Validation Accuracy: 98.92%\n",
      "Epoch: 180, Loss: 0.039145298302173615, Validation Accuracy: 98.85%\n",
      "Epoch: 190, Loss: 0.04016779735684395, Validation Accuracy: 98.85%\n",
      "Epoch: 200, Loss: 0.04039721563458443, Validation Accuracy: 98.92%\n"
     ]
    }
   ],
   "source": [
    "train_loop(x_train, y_train, model, loss_fn, optimizer, x_val, y_val, epochs=200)"
   ]
  },
  {
   "cell_type": "code",
   "execution_count": 29,
   "metadata": {},
   "outputs": [],
   "source": [
    "def predict_message(msg):\n",
    "    model.eval()\n",
    "    with torch.inference_mode():\n",
    "        x = torch.tensor(encoder.encode([normalize_text(msg)])).to(device)\n",
    "        y_pred = model(x).squeeze()\n",
    "        return (y_pred.cpu().detach().item(), 'ham' if y_pred.item() > 0.5 else 'spam')"
   ]
  },
  {
   "cell_type": "code",
   "execution_count": 30,
   "metadata": {},
   "outputs": [
    {
     "name": "stdout",
     "output_type": "stream",
     "text": [
      "You passed the challenge. Great job!\n"
     ]
    }
   ],
   "source": [
    "def test_predictions():\n",
    "  test_messages = [\"how are you doing today\",\n",
    "                   \"sale today! to stop texts call 98912460324\",\n",
    "                   \"i dont want to go. can we try it a different day? available sat\",\n",
    "                   \"our new mobile video service is live. just install on your phone to start watching.\",\n",
    "                   \"you have won £1000 cash! call to claim your prize.\",\n",
    "                   \"i'll bring it tomorrow. don't forget the milk.\",\n",
    "                   \"wow, is your arm alright. that happened to me one time too\"\n",
    "                  ]\n",
    "\n",
    "  test_answers = [\"ham\", \"spam\", \"ham\", \"spam\", \"spam\", \"ham\", \"ham\"]\n",
    "  passed = True\n",
    "\n",
    "  for msg, ans in zip(test_messages, test_answers):\n",
    "    prediction = predict_message(msg)\n",
    "    if prediction[1] != ans:\n",
    "      print(f\"Test with message: '{msg}' failed. Expected: '{ans}', but got '{prediction[1]}'\")\n",
    "      passed = False\n",
    "\n",
    "  if passed:\n",
    "    print(\"You passed the challenge. Great job!\")\n",
    "  else:\n",
    "    print(\"You haven't passed yet. Keep trying.\")\n",
    "\n",
    "test_predictions()\n"
   ]
  },
  {
   "cell_type": "code",
   "execution_count": null,
   "metadata": {},
   "outputs": [],
   "source": []
  }
 ],
 "metadata": {
  "kernelspec": {
   "display_name": "Python 3",
   "language": "python",
   "name": "python3"
  },
  "language_info": {
   "codemirror_mode": {
    "name": "ipython",
    "version": 3
   },
   "file_extension": ".py",
   "mimetype": "text/x-python",
   "name": "python",
   "nbconvert_exporter": "python",
   "pygments_lexer": "ipython3",
   "version": "3.12.4"
  }
 },
 "nbformat": 4,
 "nbformat_minor": 2
}
