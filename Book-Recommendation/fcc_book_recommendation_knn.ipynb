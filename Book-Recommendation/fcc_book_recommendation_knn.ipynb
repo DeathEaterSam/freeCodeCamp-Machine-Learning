{
 "cells": [
  {
   "cell_type": "code",
   "execution_count": 1,
   "metadata": {},
   "outputs": [],
   "source": [
    "import numpy as np\n",
    "import pandas as pd\n",
    "from scipy.sparse import csr_matrix\n",
    "from sklearn.neighbors import NearestNeighbors\n",
    "import matplotlib.pyplot as plt"
   ]
  },
  {
   "cell_type": "code",
   "execution_count": 39,
   "metadata": {},
   "outputs": [
    {
     "data": {
      "text/plain": [
       "[\"Where the Heart Is (Oprah's Book Club (Paperback))\",\n",
       " [[\"I'll Be Seeing You\", 0.8016211],\n",
       "  ['The Weight of Water', 0.77085835],\n",
       "  ['The Surgeon', 0.7699411],\n",
       "  ['I Know This Much Is True', 0.7677075],\n",
       "  ['The Lovely Bones: A Novel', 0.7234864]]]"
      ]
     },
     "execution_count": 39,
     "metadata": {},
     "output_type": "execute_result"
    }
   ],
   "source": [
    "# import csv data into dataframes\n",
    "books_filename = 'book-crossings/BX-Books.csv'\n",
    "ratings_filename = 'book-crossings/BX-Book-Ratings.csv'\n",
    "\n",
    "df_books = pd.read_csv(\n",
    "    books_filename,\n",
    "    encoding = \"ISO-8859-1\",\n",
    "    sep=\";\",\n",
    "    header=0,\n",
    "    names=['isbn', 'title', 'author'],\n",
    "    usecols=['isbn', 'title', 'author'],\n",
    "    dtype={'isbn': 'str', 'title': 'str', 'author': 'str'})\n",
    "\n",
    "df_ratings = pd.read_csv(\n",
    "    ratings_filename,\n",
    "    encoding = \"ISO-8859-1\",\n",
    "    sep=\";\",\n",
    "    header=0,\n",
    "    names=['user', 'isbn', 'rating'],\n",
    "    usecols=['user', 'isbn', 'rating'],\n",
    "    dtype={'user': 'int32', 'isbn': 'str', 'rating': 'float32'})\n",
    "\n",
    "\n",
    "user_counts = df_ratings['user'].value_counts()\n",
    "isbn_counts = df_ratings['isbn'].value_counts()\n",
    "\n",
    "# filter out users who have rated less than 200 books\n",
    "df_ratings = df_ratings[df_ratings['user'].isin(user_counts[user_counts >= 200].index)]\n",
    "\n",
    "# filter out books that have been rated less than 100 times\n",
    "df_ratings = df_ratings[df_ratings['isbn'].isin(isbn_counts[isbn_counts >= 100].index)]\n",
    "\n",
    "# merge the two dataframes\n",
    "df = pd.merge(df_ratings, df_books, on='isbn')\n",
    "\n",
    "df.drop_duplicates(subset=[\"title\", \"user\"], inplace=True)\n",
    "\n",
    "# create a pivot table\n",
    "df_pivot = df.pivot(index='title', columns='user', values='rating').fillna(0)\n",
    "\n",
    "# convert the pivot table to a sparse matrix\n",
    "mat_books = csr_matrix(df_pivot.values)\n",
    "mat_books\n",
    "\n",
    "# create a nearest neighbors model\n",
    "model_knn = NearestNeighbors(metric='cosine', algorithm='brute')\n",
    "model_knn.fit(mat_books)\n",
    "\n",
    "# function to return recommended books\n",
    "def get_recommends(book = \"\"):\n",
    "    # get the index of the book\n",
    "    book_index = df_pivot.index.get_loc(book)\n",
    "    distances, indices = model_knn.kneighbors(df_pivot.iloc[book_index, :].values.reshape(1, -1), n_neighbors=6)\n",
    "    recommended_books = []\n",
    "    for i in range(1, len(distances.flatten())):\n",
    "        recommended_books.append([df_pivot.index[indices.flatten()[i]], distances.flatten()[i]])\n",
    "    return [book, recommended_books[-1::-1]]\n",
    "\n",
    "get_recommends(\"Where the Heart Is (Oprah's Book Club (Paperback))\")\n"
   ]
  },
  {
   "cell_type": "code",
   "execution_count": 40,
   "metadata": {},
   "outputs": [
    {
     "name": "stdout",
     "output_type": "stream",
     "text": [
      "[\"Where the Heart Is (Oprah's Book Club (Paperback))\", [[\"I'll Be Seeing You\", 0.8016211], ['The Weight of Water', 0.77085835], ['The Surgeon', 0.7699411], ['I Know This Much Is True', 0.7677075], ['The Lovely Bones: A Novel', 0.7234864]]]\n",
      "You passed the challenge! 🎉🎉🎉🎉🎉\n"
     ]
    }
   ],
   "source": [
    "books = get_recommends(\"Where the Heart Is (Oprah's Book Club (Paperback))\")\n",
    "print(books)\n",
    "\n",
    "def test_book_recommendation():\n",
    "  test_pass = True\n",
    "  recommends = get_recommends(\"Where the Heart Is (Oprah's Book Club (Paperback))\")\n",
    "  if recommends[0] != \"Where the Heart Is (Oprah's Book Club (Paperback))\":\n",
    "    test_pass = False\n",
    "  recommended_books = [\"I'll Be Seeing You\", 'The Weight of Water', 'The Surgeon', 'I Know This Much Is True']\n",
    "  recommended_books_dist = [0.8, 0.77, 0.77, 0.77]\n",
    "  for i in range(2): \n",
    "    if recommends[1][i][0] not in recommended_books:\n",
    "      test_pass = False\n",
    "    if abs(recommends[1][i][1] - recommended_books_dist[i]) >= 0.05:\n",
    "      test_pass = False\n",
    "  if test_pass:\n",
    "    print(\"You passed the challenge! 🎉🎉🎉🎉🎉\")\n",
    "  else:\n",
    "    print(\"You haven't passed yet. Keep trying!\")\n",
    "\n",
    "test_book_recommendation()"
   ]
  }
 ],
 "metadata": {
  "kernelspec": {
   "display_name": "Python 3",
   "language": "python",
   "name": "python3"
  },
  "language_info": {
   "codemirror_mode": {
    "name": "ipython",
    "version": 3
   },
   "file_extension": ".py",
   "mimetype": "text/x-python",
   "name": "python",
   "nbconvert_exporter": "python",
   "pygments_lexer": "ipython3",
   "version": "3.12.4"
  }
 },
 "nbformat": 4,
 "nbformat_minor": 2
}
